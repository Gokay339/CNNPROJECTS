{
 "cells": [
  {
   "cell_type": "code",
   "execution_count": 16,
   "id": "a273b6a9-7527-41f7-896d-e8c9b6e4d922",
   "metadata": {},
   "outputs": [],
   "source": [
    "import numpy as np\n",
    "import pandas as pd\n",
    "import matplotlib.pyplot as plt\n",
    "import seaborn as sns\n",
    "import warnings\n",
    "import random\n",
    "warnings.filterwarnings(\"ignore\")\n",
    "from keras.wrappers.scikit_learn import KerasClassifier\n",
    "from sklearn.model_selection import train_test_split, GridSearchCV\n",
    "from keras.optimizers import Adam, SGD\n",
    "from keras.models import Sequential\n",
    "from keras.layers import Dense, Dropout, Flatten, Conv2D, MaxPool2D\n",
    "from keras.layers import BatchNormalization\n",
    "from keras.preprocessing.image import ImageDataGenerator\n",
    "from keras.utils.np_utils import to_categorical"
   ]
  },
  {
   "cell_type": "code",
   "execution_count": 17,
   "id": "b6f32b3e-09c1-462f-be97-aa3f71892750",
   "metadata": {},
   "outputs": [
    {
     "name": "stdout",
     "output_type": "stream",
     "text": [
      "(10000, 785)\n"
     ]
    },
    {
     "data": {
      "text/html": [
       "<div>\n",
       "<style scoped>\n",
       "    .dataframe tbody tr th:only-of-type {\n",
       "        vertical-align: middle;\n",
       "    }\n",
       "\n",
       "    .dataframe tbody tr th {\n",
       "        vertical-align: top;\n",
       "    }\n",
       "\n",
       "    .dataframe thead th {\n",
       "        text-align: right;\n",
       "    }\n",
       "</style>\n",
       "<table border=\"1\" class=\"dataframe\">\n",
       "  <thead>\n",
       "    <tr style=\"text-align: right;\">\n",
       "      <th></th>\n",
       "      <th>label</th>\n",
       "      <th>pixel1</th>\n",
       "      <th>pixel2</th>\n",
       "      <th>pixel3</th>\n",
       "      <th>pixel4</th>\n",
       "      <th>pixel5</th>\n",
       "      <th>pixel6</th>\n",
       "      <th>pixel7</th>\n",
       "      <th>pixel8</th>\n",
       "      <th>pixel9</th>\n",
       "      <th>...</th>\n",
       "      <th>pixel775</th>\n",
       "      <th>pixel776</th>\n",
       "      <th>pixel777</th>\n",
       "      <th>pixel778</th>\n",
       "      <th>pixel779</th>\n",
       "      <th>pixel780</th>\n",
       "      <th>pixel781</th>\n",
       "      <th>pixel782</th>\n",
       "      <th>pixel783</th>\n",
       "      <th>pixel784</th>\n",
       "    </tr>\n",
       "  </thead>\n",
       "  <tbody>\n",
       "    <tr>\n",
       "      <th>0</th>\n",
       "      <td>0</td>\n",
       "      <td>0</td>\n",
       "      <td>0</td>\n",
       "      <td>0</td>\n",
       "      <td>0</td>\n",
       "      <td>0</td>\n",
       "      <td>0</td>\n",
       "      <td>0</td>\n",
       "      <td>9</td>\n",
       "      <td>8</td>\n",
       "      <td>...</td>\n",
       "      <td>103</td>\n",
       "      <td>87</td>\n",
       "      <td>56</td>\n",
       "      <td>0</td>\n",
       "      <td>0</td>\n",
       "      <td>0</td>\n",
       "      <td>0</td>\n",
       "      <td>0</td>\n",
       "      <td>0</td>\n",
       "      <td>0</td>\n",
       "    </tr>\n",
       "    <tr>\n",
       "      <th>1</th>\n",
       "      <td>1</td>\n",
       "      <td>0</td>\n",
       "      <td>0</td>\n",
       "      <td>0</td>\n",
       "      <td>0</td>\n",
       "      <td>0</td>\n",
       "      <td>0</td>\n",
       "      <td>0</td>\n",
       "      <td>0</td>\n",
       "      <td>0</td>\n",
       "      <td>...</td>\n",
       "      <td>34</td>\n",
       "      <td>0</td>\n",
       "      <td>0</td>\n",
       "      <td>0</td>\n",
       "      <td>0</td>\n",
       "      <td>0</td>\n",
       "      <td>0</td>\n",
       "      <td>0</td>\n",
       "      <td>0</td>\n",
       "      <td>0</td>\n",
       "    </tr>\n",
       "    <tr>\n",
       "      <th>2</th>\n",
       "      <td>2</td>\n",
       "      <td>0</td>\n",
       "      <td>0</td>\n",
       "      <td>0</td>\n",
       "      <td>0</td>\n",
       "      <td>0</td>\n",
       "      <td>0</td>\n",
       "      <td>14</td>\n",
       "      <td>53</td>\n",
       "      <td>99</td>\n",
       "      <td>...</td>\n",
       "      <td>0</td>\n",
       "      <td>0</td>\n",
       "      <td>0</td>\n",
       "      <td>0</td>\n",
       "      <td>63</td>\n",
       "      <td>53</td>\n",
       "      <td>31</td>\n",
       "      <td>0</td>\n",
       "      <td>0</td>\n",
       "      <td>0</td>\n",
       "    </tr>\n",
       "    <tr>\n",
       "      <th>3</th>\n",
       "      <td>2</td>\n",
       "      <td>0</td>\n",
       "      <td>0</td>\n",
       "      <td>0</td>\n",
       "      <td>0</td>\n",
       "      <td>0</td>\n",
       "      <td>0</td>\n",
       "      <td>0</td>\n",
       "      <td>0</td>\n",
       "      <td>0</td>\n",
       "      <td>...</td>\n",
       "      <td>137</td>\n",
       "      <td>126</td>\n",
       "      <td>140</td>\n",
       "      <td>0</td>\n",
       "      <td>133</td>\n",
       "      <td>224</td>\n",
       "      <td>222</td>\n",
       "      <td>56</td>\n",
       "      <td>0</td>\n",
       "      <td>0</td>\n",
       "    </tr>\n",
       "    <tr>\n",
       "      <th>4</th>\n",
       "      <td>3</td>\n",
       "      <td>0</td>\n",
       "      <td>0</td>\n",
       "      <td>0</td>\n",
       "      <td>0</td>\n",
       "      <td>0</td>\n",
       "      <td>0</td>\n",
       "      <td>0</td>\n",
       "      <td>0</td>\n",
       "      <td>0</td>\n",
       "      <td>...</td>\n",
       "      <td>0</td>\n",
       "      <td>0</td>\n",
       "      <td>0</td>\n",
       "      <td>0</td>\n",
       "      <td>0</td>\n",
       "      <td>0</td>\n",
       "      <td>0</td>\n",
       "      <td>0</td>\n",
       "      <td>0</td>\n",
       "      <td>0</td>\n",
       "    </tr>\n",
       "  </tbody>\n",
       "</table>\n",
       "<p>5 rows × 785 columns</p>\n",
       "</div>"
      ],
      "text/plain": [
       "   label  pixel1  pixel2  pixel3  pixel4  pixel5  pixel6  pixel7  pixel8  \\\n",
       "0      0       0       0       0       0       0       0       0       9   \n",
       "1      1       0       0       0       0       0       0       0       0   \n",
       "2      2       0       0       0       0       0       0      14      53   \n",
       "3      2       0       0       0       0       0       0       0       0   \n",
       "4      3       0       0       0       0       0       0       0       0   \n",
       "\n",
       "   pixel9  ...  pixel775  pixel776  pixel777  pixel778  pixel779  pixel780  \\\n",
       "0       8  ...       103        87        56         0         0         0   \n",
       "1       0  ...        34         0         0         0         0         0   \n",
       "2      99  ...         0         0         0         0        63        53   \n",
       "3       0  ...       137       126       140         0       133       224   \n",
       "4       0  ...         0         0         0         0         0         0   \n",
       "\n",
       "   pixel781  pixel782  pixel783  pixel784  \n",
       "0         0         0         0         0  \n",
       "1         0         0         0         0  \n",
       "2        31         0         0         0  \n",
       "3       222        56         0         0  \n",
       "4         0         0         0         0  \n",
       "\n",
       "[5 rows x 785 columns]"
      ]
     },
     "execution_count": 17,
     "metadata": {},
     "output_type": "execute_result"
    }
   ],
   "source": [
    "test = pd.read_csv(\"test.csv\")\n",
    "print(test.shape)\n",
    "test.head()\n"
   ]
  },
  {
   "cell_type": "code",
   "execution_count": 18,
   "id": "f72c8160-fac2-47ec-bde4-07c411e61245",
   "metadata": {},
   "outputs": [
    {
     "name": "stdout",
     "output_type": "stream",
     "text": [
      "(60000, 785)\n"
     ]
    },
    {
     "data": {
      "text/html": [
       "<div>\n",
       "<style scoped>\n",
       "    .dataframe tbody tr th:only-of-type {\n",
       "        vertical-align: middle;\n",
       "    }\n",
       "\n",
       "    .dataframe tbody tr th {\n",
       "        vertical-align: top;\n",
       "    }\n",
       "\n",
       "    .dataframe thead th {\n",
       "        text-align: right;\n",
       "    }\n",
       "</style>\n",
       "<table border=\"1\" class=\"dataframe\">\n",
       "  <thead>\n",
       "    <tr style=\"text-align: right;\">\n",
       "      <th></th>\n",
       "      <th>label</th>\n",
       "      <th>pixel1</th>\n",
       "      <th>pixel2</th>\n",
       "      <th>pixel3</th>\n",
       "      <th>pixel4</th>\n",
       "      <th>pixel5</th>\n",
       "      <th>pixel6</th>\n",
       "      <th>pixel7</th>\n",
       "      <th>pixel8</th>\n",
       "      <th>pixel9</th>\n",
       "      <th>...</th>\n",
       "      <th>pixel775</th>\n",
       "      <th>pixel776</th>\n",
       "      <th>pixel777</th>\n",
       "      <th>pixel778</th>\n",
       "      <th>pixel779</th>\n",
       "      <th>pixel780</th>\n",
       "      <th>pixel781</th>\n",
       "      <th>pixel782</th>\n",
       "      <th>pixel783</th>\n",
       "      <th>pixel784</th>\n",
       "    </tr>\n",
       "  </thead>\n",
       "  <tbody>\n",
       "    <tr>\n",
       "      <th>0</th>\n",
       "      <td>2</td>\n",
       "      <td>0</td>\n",
       "      <td>0</td>\n",
       "      <td>0</td>\n",
       "      <td>0</td>\n",
       "      <td>0</td>\n",
       "      <td>0</td>\n",
       "      <td>0</td>\n",
       "      <td>0</td>\n",
       "      <td>0</td>\n",
       "      <td>...</td>\n",
       "      <td>0</td>\n",
       "      <td>0</td>\n",
       "      <td>0</td>\n",
       "      <td>0</td>\n",
       "      <td>0</td>\n",
       "      <td>0</td>\n",
       "      <td>0</td>\n",
       "      <td>0</td>\n",
       "      <td>0</td>\n",
       "      <td>0</td>\n",
       "    </tr>\n",
       "    <tr>\n",
       "      <th>1</th>\n",
       "      <td>9</td>\n",
       "      <td>0</td>\n",
       "      <td>0</td>\n",
       "      <td>0</td>\n",
       "      <td>0</td>\n",
       "      <td>0</td>\n",
       "      <td>0</td>\n",
       "      <td>0</td>\n",
       "      <td>0</td>\n",
       "      <td>0</td>\n",
       "      <td>...</td>\n",
       "      <td>0</td>\n",
       "      <td>0</td>\n",
       "      <td>0</td>\n",
       "      <td>0</td>\n",
       "      <td>0</td>\n",
       "      <td>0</td>\n",
       "      <td>0</td>\n",
       "      <td>0</td>\n",
       "      <td>0</td>\n",
       "      <td>0</td>\n",
       "    </tr>\n",
       "    <tr>\n",
       "      <th>2</th>\n",
       "      <td>6</td>\n",
       "      <td>0</td>\n",
       "      <td>0</td>\n",
       "      <td>0</td>\n",
       "      <td>0</td>\n",
       "      <td>0</td>\n",
       "      <td>0</td>\n",
       "      <td>0</td>\n",
       "      <td>5</td>\n",
       "      <td>0</td>\n",
       "      <td>...</td>\n",
       "      <td>0</td>\n",
       "      <td>0</td>\n",
       "      <td>0</td>\n",
       "      <td>30</td>\n",
       "      <td>43</td>\n",
       "      <td>0</td>\n",
       "      <td>0</td>\n",
       "      <td>0</td>\n",
       "      <td>0</td>\n",
       "      <td>0</td>\n",
       "    </tr>\n",
       "    <tr>\n",
       "      <th>3</th>\n",
       "      <td>0</td>\n",
       "      <td>0</td>\n",
       "      <td>0</td>\n",
       "      <td>0</td>\n",
       "      <td>1</td>\n",
       "      <td>2</td>\n",
       "      <td>0</td>\n",
       "      <td>0</td>\n",
       "      <td>0</td>\n",
       "      <td>0</td>\n",
       "      <td>...</td>\n",
       "      <td>3</td>\n",
       "      <td>0</td>\n",
       "      <td>0</td>\n",
       "      <td>0</td>\n",
       "      <td>0</td>\n",
       "      <td>1</td>\n",
       "      <td>0</td>\n",
       "      <td>0</td>\n",
       "      <td>0</td>\n",
       "      <td>0</td>\n",
       "    </tr>\n",
       "    <tr>\n",
       "      <th>4</th>\n",
       "      <td>3</td>\n",
       "      <td>0</td>\n",
       "      <td>0</td>\n",
       "      <td>0</td>\n",
       "      <td>0</td>\n",
       "      <td>0</td>\n",
       "      <td>0</td>\n",
       "      <td>0</td>\n",
       "      <td>0</td>\n",
       "      <td>0</td>\n",
       "      <td>...</td>\n",
       "      <td>0</td>\n",
       "      <td>0</td>\n",
       "      <td>0</td>\n",
       "      <td>0</td>\n",
       "      <td>0</td>\n",
       "      <td>0</td>\n",
       "      <td>0</td>\n",
       "      <td>0</td>\n",
       "      <td>0</td>\n",
       "      <td>0</td>\n",
       "    </tr>\n",
       "  </tbody>\n",
       "</table>\n",
       "<p>5 rows × 785 columns</p>\n",
       "</div>"
      ],
      "text/plain": [
       "   label  pixel1  pixel2  pixel3  pixel4  pixel5  pixel6  pixel7  pixel8  \\\n",
       "0      2       0       0       0       0       0       0       0       0   \n",
       "1      9       0       0       0       0       0       0       0       0   \n",
       "2      6       0       0       0       0       0       0       0       5   \n",
       "3      0       0       0       0       1       2       0       0       0   \n",
       "4      3       0       0       0       0       0       0       0       0   \n",
       "\n",
       "   pixel9  ...  pixel775  pixel776  pixel777  pixel778  pixel779  pixel780  \\\n",
       "0       0  ...         0         0         0         0         0         0   \n",
       "1       0  ...         0         0         0         0         0         0   \n",
       "2       0  ...         0         0         0        30        43         0   \n",
       "3       0  ...         3         0         0         0         0         1   \n",
       "4       0  ...         0         0         0         0         0         0   \n",
       "\n",
       "   pixel781  pixel782  pixel783  pixel784  \n",
       "0         0         0         0         0  \n",
       "1         0         0         0         0  \n",
       "2         0         0         0         0  \n",
       "3         0         0         0         0  \n",
       "4         0         0         0         0  \n",
       "\n",
       "[5 rows x 785 columns]"
      ]
     },
     "execution_count": 18,
     "metadata": {},
     "output_type": "execute_result"
    }
   ],
   "source": [
    "train = pd.read_csv(\"train.csv\")\n",
    "print(train.shape)\n",
    "train.head()\n"
   ]
  },
  {
   "cell_type": "code",
   "execution_count": 19,
   "id": "33bea7e3-c33a-4fa7-87d4-c6dfd51fe21f",
   "metadata": {},
   "outputs": [],
   "source": [
    "Y_train = train[\"label\"]\n",
    "X_train = train.drop(labels=[\"label\"],axis=1)\n",
    "\n",
    "Y_test = test[\"label\"]\n",
    "X_test = test.drop(labels=[\"label\"],axis=1)"
   ]
  },
  {
   "cell_type": "raw",
   "id": "31487a96-161a-42b0-80b1-b3966ed1eea8",
   "metadata": {},
   "source": [
    "0 T-shirt/top → Tişört/Üst\n",
    "1 Trouser → Pantolon\n",
    "2 Pullover → Kazak\n",
    "3 Dress → Elbise\n",
    "4 Coat → Mont\n",
    "5 Sandal → Sandalet\n",
    "6 Shirt → Gömlek\n",
    "7 Sneaker → Spor Ayakkabı\n",
    "8 Bag → Çanta\n",
    "9 Ankle boot → Bot"
   ]
  },
  {
   "cell_type": "code",
   "execution_count": 20,
   "id": "252cd8db-bc1f-48e4-ada0-9623eaed5e9c",
   "metadata": {},
   "outputs": [
    {
     "data": {
      "text/plain": [
       "<function matplotlib.pyplot.show(close=None, block=None)>"
      ]
     },
     "execution_count": 20,
     "metadata": {},
     "output_type": "execute_result"
    },
    {
     "data": {
      "image/png": "[encoded data removed]",
      "text/plain": [
       "<Figure size 640x480 with 1 Axes>"
      ]
     },
     "metadata": {},
     "output_type": "display_data"
    }
   ],
   "source": [
    "img = X_train.iloc[1284].to_numpy().reshape(28,28)\n",
    "plt.imshow(img,cmap=\"gray\")\n",
    "plt.title(train.iloc[1284,0])\n",
    "plt.axis(\"off\")\n",
    "plt.show"
   ]
  },
  {
   "cell_type": "code",
   "execution_count": 21,
   "id": "4c1cee99-1940-4881-8d30-74ec9f414c28",
   "metadata": {},
   "outputs": [
    {
     "data": {
      "image/png": "[encoded data removed]",
      "text/plain": [
       "<Figure size 640x480 with 1 Axes>"
      ]
     },
     "metadata": {},
     "output_type": "display_data"
    },
    {
     "data": {
      "image/png": "[encoded data removed]",
      "text/plain": [
       "<Figure size 640x480 with 1 Axes>"
      ]
     },
     "metadata": {},
     "output_type": "display_data"
    },
    {
     "data": {
      "image/png": "[encoded data removed]",
      "text/plain": [
       "<Figure size 640x480 with 1 Axes>"
      ]
     },
     "metadata": {},
     "output_type": "display_data"
    },
    {
     "data": {
      "image/png": "[encoded data removed]",
      "text/plain": [
       "<Figure size 640x480 with 1 Axes>"
      ]
     },
     "metadata": {},
     "output_type": "display_data"
    }
   ],
   "source": [
    "plt.subplot(2,2,1)\n",
    "img1 = X_train.iloc[631].to_numpy().reshape(28,28)\n",
    "plt.imshow(img1,cmap=\"gray\")\n",
    "plt.title(train.iloc[631,0])\n",
    "plt.axis(\"off\")\n",
    "plt.show()\n",
    "\n",
    "plt.subplot(2,2,2)\n",
    "img2=X_train.iloc[999].to_numpy().reshape(28,28)\n",
    "plt.imshow(img2,cmap=\"gray\")\n",
    "plt.title(train.iloc[999,0])\n",
    "plt.axis(\"off\")\n",
    "plt.show()\n",
    "\n",
    "plt.subplot(2,2,3)\n",
    "img3=X_train.iloc[834].to_numpy().reshape(28,28)\n",
    "plt.imshow(img3,cmap=\"gray\")\n",
    "plt.title(train.iloc[834,0])\n",
    "plt.axis(\"off\")\n",
    "plt.show()\n",
    "\n",
    "plt.subplot(2,2,4)\n",
    "img3=X_train.iloc[1634].to_numpy().reshape(28,28)\n",
    "plt.imshow(img3,cmap=\"gray\")\n",
    "plt.title(train.iloc[1234,0])\n",
    "plt.axis(\"off\")\n",
    "plt.show()"
   ]
  },
  {
   "cell_type": "code",
   "execution_count": 22,
   "id": "5b3d2a72-b84c-4de2-9005-f91f2fe014ca",
   "metadata": {},
   "outputs": [
    {
     "name": "stdout",
     "output_type": "stream",
     "text": [
      "x_train shape:  (60000, 784)\n",
      "test shape:  (10000, 785)\n"
     ]
    }
   ],
   "source": [
    "X_train = X_train / 255.0\n",
    "X_test = X_test / 255.0\n",
    "\n",
    "test = test / 255.0\n",
    "\n",
    "print(\"x_train shape: \",X_train.shape)\n",
    "print(\"test shape: \",test.shape)"
   ]
  },
  {
   "cell_type": "code",
   "execution_count": 23,
   "id": "e1a7c747-5b92-4015-942f-f2dd72815a9b",
   "metadata": {},
   "outputs": [
    {
     "name": "stdout",
     "output_type": "stream",
     "text": [
      "<class 'pandas.core.frame.DataFrame'>\n",
      "<class 'pandas.core.frame.DataFrame'>\n",
      "(60000, 28, 28, 1)\n",
      "(10000, 28, 28, 1)\n",
      "<class 'numpy.ndarray'>\n",
      "<class 'numpy.ndarray'>\n"
     ]
    }
   ],
   "source": [
    "# Reshape\n",
    "\n",
    "print(type(X_train))\n",
    "print(type(X_test))\n",
    "\n",
    "X_train = X_train.to_numpy().reshape(-1,28,28,1)\n",
    "X_test = X_test.to_numpy().reshape(-1,28,28,1)   \n",
    "\n",
    "print(X_train.shape)\n",
    "print(X_test.shape)\n",
    "\n",
    "print(type(X_train))\n",
    "print(type(X_test))"
   ]
  },
  {
   "cell_type": "code",
   "execution_count": 24,
   "id": "2fc05b0a-b726-45e1-a6c4-6897d07d2dd9",
   "metadata": {},
   "outputs": [],
   "source": [
    "Y_train = to_categorical(Y_train,num_classes=10)\n",
    "Y_test = to_categorical(Y_test,num_classes=10)"
   ]
  },
  {
   "cell_type": "code",
   "execution_count": 25,
   "id": "eba831d3-71af-4cde-b703-e5db6b1afd5e",
   "metadata": {},
   "outputs": [
    {
     "name": "stdout",
     "output_type": "stream",
     "text": [
      "x_train shape (54000, 28, 28, 1)\n",
      "X_val shape (6000, 28, 28, 1)\n",
      "y_train shape (54000, 10)\n",
      "Y_val shape (6000, 10)\n"
     ]
    }
   ],
   "source": [
    "from sklearn.model_selection import train_test_split\n",
    "X_train,X_val,Y_train,Y_val = train_test_split(X_train,Y_train,random_state=42,test_size=0.1)\n",
    "\n",
    "print(\"x_train shape\",X_train.shape)\n",
    "print(\"X_val shape\",X_val.shape)\n",
    "print(\"y_train shape\",Y_train.shape)\n",
    "print(\"Y_val shape\",Y_val.shape)"
   ]
  },
  {
   "cell_type": "code",
   "execution_count": 27,
   "id": "77418c7b-416a-49f4-b0ac-3a41991d855a",
   "metadata": {},
   "outputs": [],
   "source": [
    "model = Sequential()\n",
    "\n",
    "model.add(Conv2D(32,kernel_size=(3,3),padding=\"Same\",activation=\"relu\",input_shape=(28,28,1)))\n",
    "model.add(MaxPool2D())\n",
    "model.add(BatchNormalization())\n",
    "model.add(Dropout(0.3))\n",
    "\n",
    "model.add(Conv2D(64,kernel_size=(3,3),padding=\"Same\",activation=\"relu\"))\n",
    "model.add(MaxPool2D())\n",
    "model.add(BatchNormalization())\n",
    "model.add(Dropout(0.3))\n",
    "\n",
    "model.add(Conv2D(128,kernel_size=(3,3),padding=\"Same\",activation=\"relu\"))\n",
    "model.add(BatchNormalization())\n",
    "model.add(Dropout(0.3))\n",
    "\n",
    "model.add(Conv2D(128,kernel_size=(3,3),padding=\"Same\",activation=\"relu\"))\n",
    "model.add(MaxPool2D())\n",
    "model.add(BatchNormalization())\n",
    "model.add(Dropout(0.3))\n",
    "\n",
    "model.add(Conv2D(256,kernel_size=(3,3),padding=\"Same\",activation=\"relu\"))\n",
    "model.add(MaxPool2D())\n",
    "model.add(BatchNormalization())\n",
    "model.add(Dropout(0.3))\n",
    "\n",
    "model.add(Flatten())\n",
    "model.add(Dense(256,activation=\"relu\"))\n",
    "model.add(Dropout(0.3))\n",
    "model.add(Dense(10,activation=\"softmax\"))"
   ]
  },
  {
   "cell_type": "code",
   "execution_count": 28,
   "id": "04684b53-8863-4cb0-8cd8-0a9cb21dc823",
   "metadata": {},
   "outputs": [],
   "source": [
    "optimizer = Adam(learning_rate=0.0001,beta_1=0.9,beta_2=0.999)\n",
    "model.compile(optimizer=optimizer,\n",
    "             loss=\"categorical_crossentropy\",\n",
    "             metrics=[\"accuracy\"])                # bunu 0.00005 yap"
   ]
  },
  {
   "cell_type": "code",
   "execution_count": 29,
   "id": "5614f2fc-7d2e-4e2d-93c6-fd48fb0e293c",
   "metadata": {},
   "outputs": [
    {
     "name": "stdout",
     "output_type": "stream",
     "text": [
      "Model: \"sequential_2\"\n",
      "_________________________________________________________________\n",
      " Layer (type)                Output Shape              Param #   \n",
      "=================================================================\n",
      " conv2d_9 (Conv2D)           (None, 28, 28, 32)        320       \n",
      "                                                                 \n",
      " max_pooling2d_9 (MaxPooling  (None, 14, 14, 32)       0         \n",
      " 2D)                                                             \n",
      "                                                                 \n",
      " batch_normalization_8 (Batc  (None, 14, 14, 32)       128       \n",
      " hNormalization)                                                 \n",
      "                                                                 \n",
      " dropout_9 (Dropout)         (None, 14, 14, 32)        0         \n",
      "                                                                 \n",
      " conv2d_10 (Conv2D)          (None, 14, 14, 64)        18496     \n",
      "                                                                 \n",
      " max_pooling2d_10 (MaxPoolin  (None, 7, 7, 64)         0         \n",
      " g2D)                                                            \n",
      "                                                                 \n",
      " batch_normalization_9 (Batc  (None, 7, 7, 64)         256       \n",
      " hNormalization)                                                 \n",
      "                                                                 \n",
      " dropout_10 (Dropout)        (None, 7, 7, 64)          0         \n",
      "                                                                 \n",
      " conv2d_11 (Conv2D)          (None, 7, 7, 128)         73856     \n",
      "                                                                 \n",
      " batch_normalization_10 (Bat  (None, 7, 7, 128)        512       \n",
      " chNormalization)                                                \n",
      "                                                                 \n",
      " dropout_11 (Dropout)        (None, 7, 7, 128)         0         \n",
      "                                                                 \n",
      " conv2d_12 (Conv2D)          (None, 7, 7, 128)         147584    \n",
      "                                                                 \n",
      " max_pooling2d_11 (MaxPoolin  (None, 3, 3, 128)        0         \n",
      " g2D)                                                            \n",
      "                                                                 \n",
      " batch_normalization_11 (Bat  (None, 3, 3, 128)        512       \n",
      " chNormalization)                                                \n",
      "                                                                 \n",
      " dropout_12 (Dropout)        (None, 3, 3, 128)         0         \n",
      "                                                                 \n",
      " conv2d_13 (Conv2D)          (None, 3, 3, 256)         295168    \n",
      "                                                                 \n",
      " max_pooling2d_12 (MaxPoolin  (None, 1, 1, 256)        0         \n",
      " g2D)                                                            \n",
      "                                                                 \n",
      " batch_normalization_12 (Bat  (None, 1, 1, 256)        1024      \n",
      " chNormalization)                                                \n",
      "                                                                 \n",
      " dropout_13 (Dropout)        (None, 1, 1, 256)         0         \n",
      "                                                                 \n",
      " flatten_1 (Flatten)         (None, 256)               0         \n",
      "                                                                 \n",
      " dense_2 (Dense)             (None, 256)               65792     \n",
      "                                                                 \n",
      " dropout_14 (Dropout)        (None, 256)               0         \n",
      "                                                                 \n",
      " dense_3 (Dense)             (None, 10)                2570      \n",
      "                                                                 \n",
      "=================================================================\n",
      "Total params: 606,218\n",
      "Trainable params: 605,002\n",
      "Non-trainable params: 1,216\n",
      "_________________________________________________________________\n"
     ]
    }
   ],
   "source": [
    "#  Modele Bakalım\n",
    "model.summary()"
   ]
  },
  {
   "cell_type": "code",
   "execution_count": 30,
   "id": "e9d70221-2d06-4e16-8ae5-3baf55d6f434",
   "metadata": {},
   "outputs": [],
   "source": [
    "# Verileri arttırma\n",
    "\n",
    "datagen = ImageDataGenerator(\n",
    "        featurewise_center=False,  # veri seti üzerinde giriş ortalamasını 0'a ayarla\n",
    "        samplewise_center=False,  # her örneğin ortalamasını 0'a ayarla\n",
    "        featurewise_std_normalization=False,  # veri setinin std ile girişleri böl\n",
    "        samplewise_std_normalization=False,  # her bir girişi kendi std ile böl\n",
    "        zca_whitening=False,  # boyut azaltma işlemi\n",
    "        rotation_range=5,  # görüntüleri rastgele 5 derece döndür\n",
    "        zoom_range = 0.1, # rastgele görüntüleri %5 zoomla\n",
    "        width_shift_range=0.1,  # görüntüleri yatayda rastgele %5 kaydır\n",
    "        height_shift_range=0.1,  # görüntüleri dikeyde rastgele %5 kaydır\n",
    "        horizontal_flip=False,  # görüntüleri yatayda rastgele çevir\n",
    "        vertical_flip=False)  # görüntüleri dikeyde rastgele çevirme\n",
    "\n",
    "datagen.fit(X_train)\n"
   ]
  },
  {
   "cell_type": "code",
   "execution_count": 31,
   "id": "5e5662bc-586d-47d9-b24f-39dab4dec507",
   "metadata": {},
   "outputs": [
    {
     "name": "stdout",
     "output_type": "stream",
     "text": [
      "Epoch 1/30\n",
      "843/843 [==============================] - 27s 32ms/step - loss: 1.2067 - accuracy: 0.5636 - val_loss: 0.7113 - val_accuracy: 0.7160\n",
      "Epoch 2/30\n",
      "843/843 [==============================] - 30s 35ms/step - loss: 0.7940 - accuracy: 0.6988 - val_loss: 0.5605 - val_accuracy: 0.7787\n",
      "Epoch 3/30\n",
      "843/843 [==============================] - 26s 31ms/step - loss: 0.7000 - accuracy: 0.7329 - val_loss: 0.5259 - val_accuracy: 0.7960\n",
      "Epoch 4/30\n",
      "843/843 [==============================] - 29s 34ms/step - loss: 0.6374 - accuracy: 0.7538 - val_loss: 0.5042 - val_accuracy: 0.8032\n",
      "Epoch 5/30\n",
      "843/843 [==============================] - 26s 31ms/step - loss: 0.5981 - accuracy: 0.7696 - val_loss: 0.4665 - val_accuracy: 0.8180\n",
      "Epoch 6/30\n",
      "843/843 [==============================] - 26s 31ms/step - loss: 0.5578 - accuracy: 0.7868 - val_loss: 0.4041 - val_accuracy: 0.8417\n",
      "Epoch 7/30\n",
      "843/843 [==============================] - 26s 31ms/step - loss: 0.5238 - accuracy: 0.7992 - val_loss: 0.3871 - val_accuracy: 0.8538\n",
      "Epoch 8/30\n",
      "843/843 [==============================] - 26s 31ms/step - loss: 0.4956 - accuracy: 0.8122 - val_loss: 0.3898 - val_accuracy: 0.8495\n",
      "Epoch 9/30\n",
      "843/843 [==============================] - 26s 31ms/step - loss: 0.4765 - accuracy: 0.8212 - val_loss: 0.3660 - val_accuracy: 0.8577\n",
      "Epoch 10/30\n",
      "843/843 [==============================] - 26s 31ms/step - loss: 0.4579 - accuracy: 0.8272 - val_loss: 0.3771 - val_accuracy: 0.8535\n",
      "Epoch 11/30\n",
      "843/843 [==============================] - 26s 31ms/step - loss: 0.4387 - accuracy: 0.8346 - val_loss: 0.3168 - val_accuracy: 0.8828\n",
      "Epoch 12/30\n",
      "843/843 [==============================] - 26s 30ms/step - loss: 0.4249 - accuracy: 0.8396 - val_loss: 0.3059 - val_accuracy: 0.8835\n",
      "Epoch 13/30\n",
      "843/843 [==============================] - 26s 31ms/step - loss: 0.4157 - accuracy: 0.8439 - val_loss: 0.2994 - val_accuracy: 0.8870\n",
      "Epoch 14/30\n",
      "843/843 [==============================] - 26s 31ms/step - loss: 0.4051 - accuracy: 0.8490 - val_loss: 0.3562 - val_accuracy: 0.8530\n",
      "Epoch 15/30\n",
      "843/843 [==============================] - 27s 32ms/step - loss: 0.4003 - accuracy: 0.8504 - val_loss: 0.2989 - val_accuracy: 0.8843\n",
      "Epoch 16/30\n",
      "843/843 [==============================] - 26s 31ms/step - loss: 0.3912 - accuracy: 0.8544 - val_loss: 0.3271 - val_accuracy: 0.8680\n",
      "Epoch 17/30\n",
      "843/843 [==============================] - 26s 31ms/step - loss: 0.3787 - accuracy: 0.8580 - val_loss: 0.3105 - val_accuracy: 0.8808\n",
      "Epoch 18/30\n",
      "843/843 [==============================] - 26s 31ms/step - loss: 0.3756 - accuracy: 0.8588 - val_loss: 0.2942 - val_accuracy: 0.8805\n",
      "Epoch 19/30\n",
      "843/843 [==============================] - 26s 31ms/step - loss: 0.3730 - accuracy: 0.8619 - val_loss: 0.2996 - val_accuracy: 0.8818\n",
      "Epoch 20/30\n",
      "843/843 [==============================] - 27s 32ms/step - loss: 0.3645 - accuracy: 0.8640 - val_loss: 0.2827 - val_accuracy: 0.8895\n",
      "Epoch 21/30\n",
      "843/843 [==============================] - 27s 32ms/step - loss: 0.3567 - accuracy: 0.8673 - val_loss: 0.2888 - val_accuracy: 0.8848\n",
      "Epoch 22/30\n",
      "843/843 [==============================] - 27s 31ms/step - loss: 0.3525 - accuracy: 0.8693 - val_loss: 0.2973 - val_accuracy: 0.8802\n",
      "Epoch 23/30\n",
      "843/843 [==============================] - 26s 31ms/step - loss: 0.3478 - accuracy: 0.8686 - val_loss: 0.2607 - val_accuracy: 0.9010\n",
      "Epoch 24/30\n",
      "843/843 [==============================] - 26s 31ms/step - loss: 0.3443 - accuracy: 0.8708 - val_loss: 0.3086 - val_accuracy: 0.8745\n",
      "Epoch 25/30\n",
      "843/843 [==============================] - 27s 32ms/step - loss: 0.3418 - accuracy: 0.8715 - val_loss: 0.3250 - val_accuracy: 0.8632\n",
      "Epoch 26/30\n",
      "843/843 [==============================] - 26s 31ms/step - loss: 0.3376 - accuracy: 0.8744 - val_loss: 0.2543 - val_accuracy: 0.9022\n",
      "Epoch 27/30\n",
      "843/843 [==============================] - 27s 32ms/step - loss: 0.3309 - accuracy: 0.8750 - val_loss: 0.2503 - val_accuracy: 0.8993\n",
      "Epoch 28/30\n",
      "843/843 [==============================] - 26s 31ms/step - loss: 0.3295 - accuracy: 0.8760 - val_loss: 0.2847 - val_accuracy: 0.8818\n",
      "Epoch 29/30\n",
      "843/843 [==============================] - 27s 31ms/step - loss: 0.3276 - accuracy: 0.8760 - val_loss: 0.2622 - val_accuracy: 0.8960\n",
      "Epoch 30/30\n",
      "843/843 [==============================] - 26s 31ms/step - loss: 0.3228 - accuracy: 0.8797 - val_loss: 0.2383 - val_accuracy: 0.9077\n"
     ]
    }
   ],
   "source": [
    "epochs=30\n",
    "batch_size = 64\n",
    "\n",
    "\n",
    "history = model.fit(datagen.flow(X_train,Y_train,batch_size=batch_size),\n",
    "                             epochs=epochs,validation_data=(X_val,Y_val),\n",
    "                             steps_per_epoch=X_train.shape[0]//batch_size)"
   ]
  },
  {
   "cell_type": "code",
   "execution_count": 32,
   "id": "c0a00170-aad3-4efe-9c2f-2f5789351029",
   "metadata": {},
   "outputs": [
    {
     "name": "stdout",
     "output_type": "stream",
     "text": [
      "Val Loss :  0.23827852308750153\n",
      "Val Accuracy :  0.9076666831970215\n",
      "Test Loss :  0.23183301091194153\n",
      "Test Accuracy :  0.9120000004768372\n"
     ]
    }
   ],
   "source": [
    "score = model.evaluate(X_val,Y_val,verbose=0)\n",
    "print(\"Val Loss : \",score[0])\n",
    "print(\"Val Accuracy : \",score[1])\n",
    "\n",
    "# Aralarındaki doğruluk oranı fazlaysa overfitting söz konusu olabilir\n",
    "\n",
    "score = model.evaluate(X_test, Y_test, verbose=0)\n",
    "print(\"Test Loss : \", score[0])  \n",
    "print(\"Test Accuracy : \", score[1]) \n"
   ]
  },
  {
   "cell_type": "code",
   "execution_count": 33,
   "id": "80739644-fb35-49ad-be07-af475735ce1b",
   "metadata": {},
   "outputs": [
    {
     "data": {
      "image/png": "[encoded data removed]",
      "text/plain": [
       "<Figure size 640x480 with 1 Axes>"
      ]
     },
     "metadata": {},
     "output_type": "display_data"
    }
   ],
   "source": [
    "plt.plot(history.history[\"accuracy\"],label=\"Train ACC\",color=\"b\")\n",
    "plt.plot(history.history[\"val_accuracy\"],label=\"Validation ACC\",color=\"r\")\n",
    "plt.xlabel(\"Epoch Sayısı\")\n",
    "plt.ylabel(\"Doğruluk Sayısı\")\n",
    "plt.title(\"Model ACC Değerleri\")\n",
    "plt.show()"
   ]
  },
  {
   "cell_type": "code",
   "execution_count": 34,
   "id": "7ce813da-f6fc-490b-aeb4-5cfedde996b5",
   "metadata": {},
   "outputs": [
    {
     "data": {
      "text/plain": [
       "Text(0.5, 1.0, 'Model Loss Değerleri')"
      ]
     },
     "execution_count": 34,
     "metadata": {},
     "output_type": "execute_result"
    },
    {
     "data": {
      "image/png": "[encoded data removed]",
      "text/plain": [
       "<Figure size 640x480 with 1 Axes>"
      ]
     },
     "metadata": {},
     "output_type": "display_data"
    }
   ],
   "source": [
    "plt.plot(history.history[\"val_loss\"],label=\"Validation Loss\",color=\"b\")\n",
    "plt.plot(history.history[\"loss\"],label=\"Train Loss\",color=\"r\")\n",
    "plt.xlabel(\"Epoch Sayısı\")\n",
    "plt.ylabel(\"Loss\")\n",
    "plt.title(\"Model Loss Değerleri\")"
   ]
  },
  {
   "cell_type": "code",
   "execution_count": null,
   "id": "2d40fd46-1411-476a-a5a6-383e8f6f3c17",
   "metadata": {},
   "outputs": [],
   "source": []
  }
 ],
 "metadata": {
  "kernelspec": {
   "display_name": "Python 3 (ipykernel)",
   "language": "python",
   "name": "python3"
  },
  "language_info": {
   "codemirror_mode": {
    "name": "ipython",
    "version": 3
   },
   "file_extension": ".py",
   "mimetype": "text/x-python",
   "name": "python",
   "nbconvert_exporter": "python",
   "pygments_lexer": "ipython3",
   "version": "3.8.15"
  }
 },
 "nbformat": 4,
 "nbformat_minor": 5
}
