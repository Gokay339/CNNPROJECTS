{
 "cells": [
  {
   "cell_type": "code",
   "execution_count": 2,
   "id": "acf80d53-2dc2-46fd-b01d-a7dd0f38e61e",
   "metadata": {},
   "outputs": [],
   "source": [
    "import numpy as np\n",
    "import pandas as pd\n",
    "import matplotlib.pyplot as plt\n",
    "import seaborn as sns\n",
    "import warnings\n",
    "warnings.filterwarnings(\"ignore\")"
   ]
  },
  {
   "cell_type": "code",
   "execution_count": 52,
   "id": "94c05ddf-c79d-43ad-9a76-4c1342668e04",
   "metadata": {},
   "outputs": [
    {
     "name": "stdout",
     "output_type": "stream",
     "text": [
      "label       0\n",
      "pixel0      0\n",
      "pixel1      0\n",
      "pixel2      0\n",
      "pixel3      0\n",
      "           ..\n",
      "pixel779    0\n",
      "pixel780    0\n",
      "pixel781    0\n",
      "pixel782    0\n",
      "pixel783    0\n",
      "Length: 785, dtype: int64\n",
      "(42000, 785)\n"
     ]
    },
    {
     "data": {
      "text/html": [
       "<div>\n",
       "<style scoped>\n",
       "    .dataframe tbody tr th:only-of-type {\n",
       "        vertical-align: middle;\n",
       "    }\n",
       "\n",
       "    .dataframe tbody tr th {\n",
       "        vertical-align: top;\n",
       "    }\n",
       "\n",
       "    .dataframe thead th {\n",
       "        text-align: right;\n",
       "    }\n",
       "</style>\n",
       "<table border=\"1\" class=\"dataframe\">\n",
       "  <thead>\n",
       "    <tr style=\"text-align: right;\">\n",
       "      <th></th>\n",
       "      <th>label</th>\n",
       "      <th>pixel0</th>\n",
       "      <th>pixel1</th>\n",
       "      <th>pixel2</th>\n",
       "      <th>pixel3</th>\n",
       "      <th>pixel4</th>\n",
       "      <th>pixel5</th>\n",
       "      <th>pixel6</th>\n",
       "      <th>pixel7</th>\n",
       "      <th>pixel8</th>\n",
       "      <th>...</th>\n",
       "      <th>pixel774</th>\n",
       "      <th>pixel775</th>\n",
       "      <th>pixel776</th>\n",
       "      <th>pixel777</th>\n",
       "      <th>pixel778</th>\n",
       "      <th>pixel779</th>\n",
       "      <th>pixel780</th>\n",
       "      <th>pixel781</th>\n",
       "      <th>pixel782</th>\n",
       "      <th>pixel783</th>\n",
       "    </tr>\n",
       "  </thead>\n",
       "  <tbody>\n",
       "    <tr>\n",
       "      <th>0</th>\n",
       "      <td>1</td>\n",
       "      <td>0</td>\n",
       "      <td>0</td>\n",
       "      <td>0</td>\n",
       "      <td>0</td>\n",
       "      <td>0</td>\n",
       "      <td>0</td>\n",
       "      <td>0</td>\n",
       "      <td>0</td>\n",
       "      <td>0</td>\n",
       "      <td>...</td>\n",
       "      <td>0</td>\n",
       "      <td>0</td>\n",
       "      <td>0</td>\n",
       "      <td>0</td>\n",
       "      <td>0</td>\n",
       "      <td>0</td>\n",
       "      <td>0</td>\n",
       "      <td>0</td>\n",
       "      <td>0</td>\n",
       "      <td>0</td>\n",
       "    </tr>\n",
       "    <tr>\n",
       "      <th>1</th>\n",
       "      <td>0</td>\n",
       "      <td>0</td>\n",
       "      <td>0</td>\n",
       "      <td>0</td>\n",
       "      <td>0</td>\n",
       "      <td>0</td>\n",
       "      <td>0</td>\n",
       "      <td>0</td>\n",
       "      <td>0</td>\n",
       "      <td>0</td>\n",
       "      <td>...</td>\n",
       "      <td>0</td>\n",
       "      <td>0</td>\n",
       "      <td>0</td>\n",
       "      <td>0</td>\n",
       "      <td>0</td>\n",
       "      <td>0</td>\n",
       "      <td>0</td>\n",
       "      <td>0</td>\n",
       "      <td>0</td>\n",
       "      <td>0</td>\n",
       "    </tr>\n",
       "    <tr>\n",
       "      <th>2</th>\n",
       "      <td>1</td>\n",
       "      <td>0</td>\n",
       "      <td>0</td>\n",
       "      <td>0</td>\n",
       "      <td>0</td>\n",
       "      <td>0</td>\n",
       "      <td>0</td>\n",
       "      <td>0</td>\n",
       "      <td>0</td>\n",
       "      <td>0</td>\n",
       "      <td>...</td>\n",
       "      <td>0</td>\n",
       "      <td>0</td>\n",
       "      <td>0</td>\n",
       "      <td>0</td>\n",
       "      <td>0</td>\n",
       "      <td>0</td>\n",
       "      <td>0</td>\n",
       "      <td>0</td>\n",
       "      <td>0</td>\n",
       "      <td>0</td>\n",
       "    </tr>\n",
       "    <tr>\n",
       "      <th>3</th>\n",
       "      <td>4</td>\n",
       "      <td>0</td>\n",
       "      <td>0</td>\n",
       "      <td>0</td>\n",
       "      <td>0</td>\n",
       "      <td>0</td>\n",
       "      <td>0</td>\n",
       "      <td>0</td>\n",
       "      <td>0</td>\n",
       "      <td>0</td>\n",
       "      <td>...</td>\n",
       "      <td>0</td>\n",
       "      <td>0</td>\n",
       "      <td>0</td>\n",
       "      <td>0</td>\n",
       "      <td>0</td>\n",
       "      <td>0</td>\n",
       "      <td>0</td>\n",
       "      <td>0</td>\n",
       "      <td>0</td>\n",
       "      <td>0</td>\n",
       "    </tr>\n",
       "    <tr>\n",
       "      <th>4</th>\n",
       "      <td>0</td>\n",
       "      <td>0</td>\n",
       "      <td>0</td>\n",
       "      <td>0</td>\n",
       "      <td>0</td>\n",
       "      <td>0</td>\n",
       "      <td>0</td>\n",
       "      <td>0</td>\n",
       "      <td>0</td>\n",
       "      <td>0</td>\n",
       "      <td>...</td>\n",
       "      <td>0</td>\n",
       "      <td>0</td>\n",
       "      <td>0</td>\n",
       "      <td>0</td>\n",
       "      <td>0</td>\n",
       "      <td>0</td>\n",
       "      <td>0</td>\n",
       "      <td>0</td>\n",
       "      <td>0</td>\n",
       "      <td>0</td>\n",
       "    </tr>\n",
       "  </tbody>\n",
       "</table>\n",
       "<p>5 rows × 785 columns</p>\n",
       "</div>"
      ],
      "text/plain": [
       "   label  pixel0  pixel1  pixel2  pixel3  pixel4  pixel5  pixel6  pixel7  \\\n",
       "0      1       0       0       0       0       0       0       0       0   \n",
       "1      0       0       0       0       0       0       0       0       0   \n",
       "2      1       0       0       0       0       0       0       0       0   \n",
       "3      4       0       0       0       0       0       0       0       0   \n",
       "4      0       0       0       0       0       0       0       0       0   \n",
       "\n",
       "   pixel8  ...  pixel774  pixel775  pixel776  pixel777  pixel778  pixel779  \\\n",
       "0       0  ...         0         0         0         0         0         0   \n",
       "1       0  ...         0         0         0         0         0         0   \n",
       "2       0  ...         0         0         0         0         0         0   \n",
       "3       0  ...         0         0         0         0         0         0   \n",
       "4       0  ...         0         0         0         0         0         0   \n",
       "\n",
       "   pixel780  pixel781  pixel782  pixel783  \n",
       "0         0         0         0         0  \n",
       "1         0         0         0         0  \n",
       "2         0         0         0         0  \n",
       "3         0         0         0         0  \n",
       "4         0         0         0         0  \n",
       "\n",
       "[5 rows x 785 columns]"
      ]
     },
     "execution_count": 52,
     "metadata": {},
     "output_type": "execute_result"
    }
   ],
   "source": [
    "train = pd.read_csv(\"train.csv\")\n",
    "print(train.shape)\n",
    "train.head()"
   ]
  },
  {
   "cell_type": "code",
   "execution_count": 4,
   "id": "2a9eecde-d16a-402f-a052-70c6367df2dd",
   "metadata": {},
   "outputs": [
    {
     "name": "stdout",
     "output_type": "stream",
     "text": [
      "(28000, 784)\n"
     ]
    },
    {
     "data": {
      "text/html": [
       "<div>\n",
       "<style scoped>\n",
       "    .dataframe tbody tr th:only-of-type {\n",
       "        vertical-align: middle;\n",
       "    }\n",
       "\n",
       "    .dataframe tbody tr th {\n",
       "        vertical-align: top;\n",
       "    }\n",
       "\n",
       "    .dataframe thead th {\n",
       "        text-align: right;\n",
       "    }\n",
       "</style>\n",
       "<table border=\"1\" class=\"dataframe\">\n",
       "  <thead>\n",
       "    <tr style=\"text-align: right;\">\n",
       "      <th></th>\n",
       "      <th>pixel0</th>\n",
       "      <th>pixel1</th>\n",
       "      <th>pixel2</th>\n",
       "      <th>pixel3</th>\n",
       "      <th>pixel4</th>\n",
       "      <th>pixel5</th>\n",
       "      <th>pixel6</th>\n",
       "      <th>pixel7</th>\n",
       "      <th>pixel8</th>\n",
       "      <th>pixel9</th>\n",
       "      <th>...</th>\n",
       "      <th>pixel774</th>\n",
       "      <th>pixel775</th>\n",
       "      <th>pixel776</th>\n",
       "      <th>pixel777</th>\n",
       "      <th>pixel778</th>\n",
       "      <th>pixel779</th>\n",
       "      <th>pixel780</th>\n",
       "      <th>pixel781</th>\n",
       "      <th>pixel782</th>\n",
       "      <th>pixel783</th>\n",
       "    </tr>\n",
       "  </thead>\n",
       "  <tbody>\n",
       "    <tr>\n",
       "      <th>0</th>\n",
       "      <td>0</td>\n",
       "      <td>0</td>\n",
       "      <td>0</td>\n",
       "      <td>0</td>\n",
       "      <td>0</td>\n",
       "      <td>0</td>\n",
       "      <td>0</td>\n",
       "      <td>0</td>\n",
       "      <td>0</td>\n",
       "      <td>0</td>\n",
       "      <td>...</td>\n",
       "      <td>0</td>\n",
       "      <td>0</td>\n",
       "      <td>0</td>\n",
       "      <td>0</td>\n",
       "      <td>0</td>\n",
       "      <td>0</td>\n",
       "      <td>0</td>\n",
       "      <td>0</td>\n",
       "      <td>0</td>\n",
       "      <td>0</td>\n",
       "    </tr>\n",
       "    <tr>\n",
       "      <th>1</th>\n",
       "      <td>0</td>\n",
       "      <td>0</td>\n",
       "      <td>0</td>\n",
       "      <td>0</td>\n",
       "      <td>0</td>\n",
       "      <td>0</td>\n",
       "      <td>0</td>\n",
       "      <td>0</td>\n",
       "      <td>0</td>\n",
       "      <td>0</td>\n",
       "      <td>...</td>\n",
       "      <td>0</td>\n",
       "      <td>0</td>\n",
       "      <td>0</td>\n",
       "      <td>0</td>\n",
       "      <td>0</td>\n",
       "      <td>0</td>\n",
       "      <td>0</td>\n",
       "      <td>0</td>\n",
       "      <td>0</td>\n",
       "      <td>0</td>\n",
       "    </tr>\n",
       "    <tr>\n",
       "      <th>2</th>\n",
       "      <td>0</td>\n",
       "      <td>0</td>\n",
       "      <td>0</td>\n",
       "      <td>0</td>\n",
       "      <td>0</td>\n",
       "      <td>0</td>\n",
       "      <td>0</td>\n",
       "      <td>0</td>\n",
       "      <td>0</td>\n",
       "      <td>0</td>\n",
       "      <td>...</td>\n",
       "      <td>0</td>\n",
       "      <td>0</td>\n",
       "      <td>0</td>\n",
       "      <td>0</td>\n",
       "      <td>0</td>\n",
       "      <td>0</td>\n",
       "      <td>0</td>\n",
       "      <td>0</td>\n",
       "      <td>0</td>\n",
       "      <td>0</td>\n",
       "    </tr>\n",
       "    <tr>\n",
       "      <th>3</th>\n",
       "      <td>0</td>\n",
       "      <td>0</td>\n",
       "      <td>0</td>\n",
       "      <td>0</td>\n",
       "      <td>0</td>\n",
       "      <td>0</td>\n",
       "      <td>0</td>\n",
       "      <td>0</td>\n",
       "      <td>0</td>\n",
       "      <td>0</td>\n",
       "      <td>...</td>\n",
       "      <td>0</td>\n",
       "      <td>0</td>\n",
       "      <td>0</td>\n",
       "      <td>0</td>\n",
       "      <td>0</td>\n",
       "      <td>0</td>\n",
       "      <td>0</td>\n",
       "      <td>0</td>\n",
       "      <td>0</td>\n",
       "      <td>0</td>\n",
       "    </tr>\n",
       "    <tr>\n",
       "      <th>4</th>\n",
       "      <td>0</td>\n",
       "      <td>0</td>\n",
       "      <td>0</td>\n",
       "      <td>0</td>\n",
       "      <td>0</td>\n",
       "      <td>0</td>\n",
       "      <td>0</td>\n",
       "      <td>0</td>\n",
       "      <td>0</td>\n",
       "      <td>0</td>\n",
       "      <td>...</td>\n",
       "      <td>0</td>\n",
       "      <td>0</td>\n",
       "      <td>0</td>\n",
       "      <td>0</td>\n",
       "      <td>0</td>\n",
       "      <td>0</td>\n",
       "      <td>0</td>\n",
       "      <td>0</td>\n",
       "      <td>0</td>\n",
       "      <td>0</td>\n",
       "    </tr>\n",
       "  </tbody>\n",
       "</table>\n",
       "<p>5 rows × 784 columns</p>\n",
       "</div>"
      ],
      "text/plain": [
       "   pixel0  pixel1  pixel2  pixel3  pixel4  pixel5  pixel6  pixel7  pixel8  \\\n",
       "0       0       0       0       0       0       0       0       0       0   \n",
       "1       0       0       0       0       0       0       0       0       0   \n",
       "2       0       0       0       0       0       0       0       0       0   \n",
       "3       0       0       0       0       0       0       0       0       0   \n",
       "4       0       0       0       0       0       0       0       0       0   \n",
       "\n",
       "   pixel9  ...  pixel774  pixel775  pixel776  pixel777  pixel778  pixel779  \\\n",
       "0       0  ...         0         0         0         0         0         0   \n",
       "1       0  ...         0         0         0         0         0         0   \n",
       "2       0  ...         0         0         0         0         0         0   \n",
       "3       0  ...         0         0         0         0         0         0   \n",
       "4       0  ...         0         0         0         0         0         0   \n",
       "\n",
       "   pixel780  pixel781  pixel782  pixel783  \n",
       "0         0         0         0         0  \n",
       "1         0         0         0         0  \n",
       "2         0         0         0         0  \n",
       "3         0         0         0         0  \n",
       "4         0         0         0         0  \n",
       "\n",
       "[5 rows x 784 columns]"
      ]
     },
     "execution_count": 4,
     "metadata": {},
     "output_type": "execute_result"
    }
   ],
   "source": [
    "test = pd.read_csv(\"test.csv\")\n",
    "print(test.shape)\n",
    "test.head()"
   ]
  },
  {
   "cell_type": "code",
   "execution_count": 5,
   "id": "5f07365c-f099-4740-83ef-211505e0c18d",
   "metadata": {},
   "outputs": [],
   "source": [
    "Y_train = train[\"label\"]\n",
    "X_train = train.drop(labels=[\"label\"],axis=1)\n",
    "# labellarım Ytrain oluyor geriye kalan pixellerde xtrain"
   ]
  },
  {
   "cell_type": "code",
   "execution_count": 6,
   "id": "dce7b2c1-f339-495b-8947-b82ec2a11458",
   "metadata": {},
   "outputs": [
    {
     "data": {
      "image/png": "[encoded data removed]",
      "text/plain": [
       "<Figure size 640x480 with 1 Axes>"
      ]
     },
     "metadata": {},
     "output_type": "display_data"
    }
   ],
   "source": [
    "img = X_train.iloc[767].to_numpy()\n",
    "img = img.reshape((28,28))\n",
    "plt.imshow(img,cmap=\"gray\")\n",
    "plt.title(train.iloc[767,0]) # 767. satırındaki 0. sütunu alır yani label\n",
    "plt.axis(\"off\")\n",
    "plt.show()"
   ]
  },
  {
   "cell_type": "code",
   "execution_count": 7,
   "id": "3d2386e5-5127-4e2a-a8df-f5f69007e9c5",
   "metadata": {},
   "outputs": [
    {
     "data": {
      "image/png": "[encoded data removed]",
      "text/plain": [
       "<Figure size 640x480 with 1 Axes>"
      ]
     },
     "metadata": {},
     "output_type": "display_data"
    },
    {
     "data": {
      "image/png": "[encoded data removed]",
      "text/plain": [
       "<Figure size 640x480 with 4 Axes>"
      ]
     },
     "metadata": {},
     "output_type": "display_data"
    }
   ],
   "source": [
    "plt.subplot(2,3,1)\n",
    "img = X_train.iloc[0].to_numpy().reshape(28,28)\n",
    "plt.imshow(img,cmap='gray')\n",
    "plt.title(train.iloc[0,0])\n",
    "plt.axis(\"off\")\n",
    "plt.show()\n",
    "\n",
    "\n",
    "plt.subplot(2,2,1)\n",
    "img1 = X_train.iloc[571].to_numpy().reshape(28,28)\n",
    "plt.imshow(img1,cmap=\"gray\")\n",
    "plt.title(train.iloc[571,0])\n",
    "plt.axis(\"off\")\n",
    "\n",
    "plt.subplot(2,2,2)\n",
    "img2=X_train.iloc[572].to_numpy().reshape(28,28)\n",
    "plt.imshow(img2,cmap=\"gray\")\n",
    "plt.title(train.iloc[572,0])\n",
    "plt.axis(\"off\")\n",
    "\n",
    "plt.subplot(2,2,3)\n",
    "img3=X_train.iloc[1881].to_numpy().reshape(28,28)\n",
    "plt.imshow(img3,cmap=\"gray\")\n",
    "plt.title(train.iloc[1881,0])\n",
    "plt.axis(\"off\")\n",
    "\n",
    "plt.subplot(2,2,4)\n",
    "img4=X_train.iloc[2025].to_numpy().reshape(28,28)\n",
    "plt.imshow(img4,cmap=\"gray\")\n",
    "plt.title(train.iloc[2025,0])\n",
    "plt.axis(\"off\")\n",
    "plt.show()"
   ]
  },
  {
   "cell_type": "markdown",
   "id": "b5dc2f59-8783-48c1-9f59-ac94dcc16c79",
   "metadata": {},
   "source": [
    "<a id=\"2\"></a>\n",
    "## Normalizasyon, Yeniden Şekillendirme ve Etiket Kodlama\n",
    "* Normalizasyon\n",
    "    * Aydınlatmadaki farklılıkların etkisini azaltmak için gri tonlama normalizasyonu yapıyoruz.\n",
    "    * Normalizasyon yaparsak, CNN daha hızlı çalışır.\n",
    "* Yeniden Şekillendirme\n",
    "    * Eğitim ve test görüntüleri (28 x 28)\n",
    "    * Tüm verileri 28x28x1 3D matrislerine yeniden şekillendiriyoruz.\n",
    "    * Keras 28x28x1 şeklinde çalışıyor , 1 anlamı grayscale , eğer 28x28 dersek keras bunu anlamaz \n",
    "    * Keras, kanallara karşılık gelen son bir boyuta ihtiyaç duyar. Görüntülerimiz gri tonlamalı olduğu için sadece bir kanal kullanılır.\n",
    "* Etiket Kodlama  \n",
    "    * Etiketleri one hot vektörlerine kodlayın\n",
    "        * 2 => [0,0,1,0,0,0,0,0,0,0]\n",
    "        * 4 => [0,0,0,0,1,0,0,0,0,0]\n"
   ]
  },
  {
   "cell_type": "code",
   "execution_count": 8,
   "id": "77711f61-32e6-4afe-b809-d80f4ded3524",
   "metadata": {},
   "outputs": [
    {
     "name": "stdout",
     "output_type": "stream",
     "text": [
      "x_train shape:  (42000, 784)\n",
      "test shape:  (28000, 784)\n"
     ]
    }
   ],
   "source": [
    "X_train = X_train / 255.0\n",
    "test = test / 255.0\n",
    "\n",
    "print(\"x_train shape: \",X_train.shape)\n",
    "print(\"test shape: \",test.shape)"
   ]
  },
  {
   "cell_type": "code",
   "execution_count": 9,
   "id": "88d0914b-6b73-4b6c-ae1c-9af00ccfe812",
   "metadata": {},
   "outputs": [
    {
     "name": "stdout",
     "output_type": "stream",
     "text": [
      "x_train shape:  (42000, 28, 28, 1)\n",
      "test shape:  (28000, 28, 28, 1)\n"
     ]
    }
   ],
   "source": [
    "# Reshape\n",
    "X_train = X_train.values.reshape(-1,28,28,1)        \n",
    "test = test.values.reshape(-1,28,28,1)   #Özetle, -1, dizinin bu boyutunu diğer verilen boyutlara göre otomatik doldurur.\n",
    "print(\"x_train shape: \",X_train.shape)\n",
    "print(\"test shape: \",test.shape)"
   ]
  },
  {
   "cell_type": "code",
   "execution_count": 10,
   "id": "9dddb66e-b99b-4892-9679-c56bc1d1fca9",
   "metadata": {},
   "outputs": [],
   "source": [
    "from keras.utils.np_utils import to_categorical\n",
    "Y_train = to_categorical(Y_train,num_classes=10)"
   ]
  },
  {
   "cell_type": "code",
   "execution_count": 11,
   "id": "6d623247-e436-4802-98ea-9fd217d874e1",
   "metadata": {},
   "outputs": [
    {
     "name": "stdout",
     "output_type": "stream",
     "text": [
      "x_train shape (37800, 28, 28, 1)\n",
      "x_test shape (4200, 28, 28, 1)\n",
      "y_train shape (37800, 10)\n",
      "y_test shape (4200, 10)\n"
     ]
    }
   ],
   "source": [
    "from sklearn.model_selection import train_test_split\n",
    "X_train,X_val,Y_train,Y_val = train_test_split(X_train,Y_train,random_state=2,test_size=0.1)\n",
    "\n",
    "print(\"x_train shape\",X_train.shape)\n",
    "print(\"x_test shape\",X_val.shape)\n",
    "print(\"y_train shape\",Y_train.shape)\n",
    "print(\"y_test shape\",Y_val.shape)"
   ]
  },
  {
   "cell_type": "code",
   "execution_count": 12,
   "id": "320ea5c2-c678-49a4-8e39-4eda92aea0fe",
   "metadata": {},
   "outputs": [
    {
     "data": {
      "image/png": "[encoded data removed]",
      "text/plain": [
       "<Figure size 640x480 with 1 Axes>"
      ]
     },
     "metadata": {},
     "output_type": "display_data"
    }
   ],
   "source": [
    "# Bazı örnekler\n",
    "plt.imshow(X_train[2232][:,:,0],cmap='gray')\n",
    "plt.show()"
   ]
  },
  {
   "cell_type": "code",
   "execution_count": 13,
   "id": "ada26b11-37cc-4e2b-b56f-b2dab43da73e",
   "metadata": {},
   "outputs": [],
   "source": [
    "from sklearn.metrics import confusion_matrix\n",
    "import itertools\n",
    "\n",
    "from keras.utils.np_utils import to_categorical # convert to one-hot-encoding\n",
    "from keras.models import Sequential\n",
    "from keras.layers import Dense, Dropout, Flatten, Conv2D, MaxPool2D\n",
    "from keras.optimizers import RMSprop,Adam\n",
    "from keras.preprocessing.image import ImageDataGenerator\n",
    "from keras.callbacks import ReduceLROnPlateau\n",
    "from keras.layers import BatchNormalization\n",
    "\n",
    "model = Sequential()\n",
    "model.add(Conv2D(filters=32,kernel_size=(5,5),padding=\"Same\",activation=\"relu\",input_shape=(28,28,1)))\n",
    "model.add(MaxPool2D(pool_size=(2,2)))\n",
    "model.add(BatchNormalization())  #Batch Normalization, derin öğrenme modellerinin eğitim sürecini optimize etmek için kullanılır.\n",
    "model.add(Dropout(0.25))   # AŞIRI ÖĞRENME OVERFİTTİNG AZALTIR\n",
    "\n",
    "model.add(Conv2D(filters=64,kernel_size=(3,3),padding=\"Same\",activation=\"relu\"))\n",
    "model.add(MaxPool2D(pool_size=(2,2)))\n",
    "model.add(BatchNormalization())\n",
    "model.add(Dropout(0.25))\n",
    "\n",
    "model.add(Flatten())\n",
    "model.add(Dense(256,activation=\"relu\"))\n",
    "model.add(Dropout(0.5))\n",
    "model.add(Dense(10,activation=\"softmax\"))"
   ]
  },
  {
   "cell_type": "code",
   "execution_count": 14,
   "id": "702dc7e5-cdee-49ed-9610-d6c87019aa46",
   "metadata": {},
   "outputs": [],
   "source": [
    "optimizer = Adam(lr=0.001,beta_1=0.9,beta_2=0.999)"
   ]
  },
  {
   "cell_type": "code",
   "execution_count": 15,
   "id": "628b4c07-8258-45d1-b196-36a219339af6",
   "metadata": {},
   "outputs": [],
   "source": [
    "model.compile(optimizer=optimizer,loss=\"categorical_crossentropy\",metrics=[\"accuracy\"])"
   ]
  },
  {
   "cell_type": "code",
   "execution_count": 16,
   "id": "f0deaea2-e3dd-42d8-8d0b-ed5508f439ec",
   "metadata": {},
   "outputs": [],
   "source": [
    "epochs = 20  # Sonuçların daha iyi olması için epoch sayısını artırın\n",
    "batch_size = 250"
   ]
  },
  {
   "cell_type": "code",
   "execution_count": 17,
   "id": "cc7c37ce-40ad-4579-99a6-5eaa715ce50d",
   "metadata": {},
   "outputs": [
    {
     "name": "stdout",
     "output_type": "stream",
     "text": [
      "Model: \"sequential\"\n",
      "_________________________________________________________________\n",
      " Layer (type)                Output Shape              Param #   \n",
      "=================================================================\n",
      " conv2d (Conv2D)             (None, 28, 28, 30)        780       \n",
      "                                                                 \n",
      " max_pooling2d (MaxPooling2D  (None, 14, 14, 30)       0         \n",
      " )                                                               \n",
      "                                                                 \n",
      " batch_normalization (BatchN  (None, 14, 14, 30)       120       \n",
      " ormalization)                                                   \n",
      "                                                                 \n",
      " dropout (Dropout)           (None, 14, 14, 30)        0         \n",
      "                                                                 \n",
      " conv2d_1 (Conv2D)           (None, 14, 14, 25)        6775      \n",
      "                                                                 \n",
      " max_pooling2d_1 (MaxPooling  (None, 7, 7, 25)         0         \n",
      " 2D)                                                             \n",
      "                                                                 \n",
      " batch_normalization_1 (Batc  (None, 7, 7, 25)         100       \n",
      " hNormalization)                                                 \n",
      "                                                                 \n",
      " dropout_1 (Dropout)         (None, 7, 7, 25)          0         \n",
      "                                                                 \n",
      " flatten (Flatten)           (None, 1225)              0         \n",
      "                                                                 \n",
      " dense (Dense)               (None, 256)               313856    \n",
      "                                                                 \n",
      " dropout_2 (Dropout)         (None, 256)               0         \n",
      "                                                                 \n",
      " dense_1 (Dense)             (None, 10)                2570      \n",
      "                                                                 \n",
      "=================================================================\n",
      "Total params: 324,201\n",
      "Trainable params: 324,091\n",
      "Non-trainable params: 110\n",
      "_________________________________________________________________\n"
     ]
    }
   ],
   "source": [
    "\n",
    "#Model Summary\n",
    "model.summary()"
   ]
  },
  {
   "cell_type": "code",
   "execution_count": 18,
   "id": "a5f05075-9aae-407c-ae26-183cd6d645b5",
   "metadata": {},
   "outputs": [],
   "source": [
    "# VERİ ARTTIRMA\n",
    "# Veri artırma işlemi\n",
    "datagen = ImageDataGenerator(\n",
    "        featurewise_center=False,  # veri seti üzerinde giriş ortalamasını 0'a ayarla\n",
    "        samplewise_center=False,  # her örneğin ortalamasını 0'a ayarla\n",
    "        featurewise_std_normalization=False,  # veri setinin std ile girişleri böl\n",
    "        samplewise_std_normalization=False,  # her bir girişi kendi std ile böl\n",
    "        zca_whitening=False,  # boyut azaltma işlemi\n",
    "        rotation_range=5,  # görüntüleri rastgele 5 derece döndür\n",
    "        zoom_range = 0.1, # rastgele görüntüleri %5 zoomla\n",
    "        width_shift_range=0.1,  # görüntüleri yatayda rastgele %5 kaydır\n",
    "        height_shift_range=0.1,  # görüntüleri dikeyde rastgele %5 kaydır\n",
    "        horizontal_flip=False,  # görüntüleri yatayda rastgele çevir\n",
    "        vertical_flip=False)  # görüntüleri dikeyde rastgele çevirme\n",
    "\n",
    "datagen.fit(X_train)\n"
   ]
  },
  {
   "cell_type": "code",
   "execution_count": 19,
   "id": "de13304d-465b-48ae-8a25-ad96440067f6",
   "metadata": {
    "scrolled": true
   },
   "outputs": [
    {
     "name": "stdout",
     "output_type": "stream",
     "text": [
      "Epoch 1/20\n",
      "151/151 [==============================] - 11s 67ms/step - loss: 0.7282 - accuracy: 0.7637 - val_loss: 2.7001 - val_accuracy: 0.2602\n",
      "Epoch 2/20\n",
      "151/151 [==============================] - 10s 67ms/step - loss: 0.2293 - accuracy: 0.9296 - val_loss: 2.0856 - val_accuracy: 0.4986\n",
      "Epoch 3/20\n",
      "151/151 [==============================] - 10s 66ms/step - loss: 0.1673 - accuracy: 0.9478 - val_loss: 0.6051 - val_accuracy: 0.8181\n",
      "Epoch 4/20\n",
      "151/151 [==============================] - 10s 67ms/step - loss: 0.1388 - accuracy: 0.9577 - val_loss: 0.1664 - val_accuracy: 0.9519\n",
      "Epoch 5/20\n",
      "151/151 [==============================] - 10s 68ms/step - loss: 0.1177 - accuracy: 0.9638 - val_loss: 0.0495 - val_accuracy: 0.9838\n",
      "Epoch 6/20\n",
      "151/151 [==============================] - 11s 70ms/step - loss: 0.1103 - accuracy: 0.9666 - val_loss: 0.0443 - val_accuracy: 0.9852\n",
      "Epoch 7/20\n",
      "151/151 [==============================] - 10s 67ms/step - loss: 0.1014 - accuracy: 0.9687 - val_loss: 0.0398 - val_accuracy: 0.9874\n",
      "Epoch 8/20\n",
      "151/151 [==============================] - 10s 68ms/step - loss: 0.0975 - accuracy: 0.9701 - val_loss: 0.0356 - val_accuracy: 0.9881\n",
      "Epoch 9/20\n",
      "151/151 [==============================] - 10s 67ms/step - loss: 0.0913 - accuracy: 0.9728 - val_loss: 0.0421 - val_accuracy: 0.9852\n",
      "Epoch 10/20\n",
      "151/151 [==============================] - 10s 67ms/step - loss: 0.0824 - accuracy: 0.9748 - val_loss: 0.0431 - val_accuracy: 0.9864\n",
      "Epoch 11/20\n",
      "151/151 [==============================] - 10s 68ms/step - loss: 0.0774 - accuracy: 0.9758 - val_loss: 0.0452 - val_accuracy: 0.9836\n",
      "Epoch 12/20\n",
      "151/151 [==============================] - 10s 68ms/step - loss: 0.0735 - accuracy: 0.9770 - val_loss: 0.0361 - val_accuracy: 0.9890\n",
      "Epoch 13/20\n",
      "151/151 [==============================] - 10s 66ms/step - loss: 0.0795 - accuracy: 0.9762 - val_loss: 0.0365 - val_accuracy: 0.9879\n",
      "Epoch 14/20\n",
      "151/151 [==============================] - 10s 65ms/step - loss: 0.0745 - accuracy: 0.9780 - val_loss: 0.0260 - val_accuracy: 0.9921\n",
      "Epoch 15/20\n",
      "151/151 [==============================] - 10s 68ms/step - loss: 0.0725 - accuracy: 0.9782 - val_loss: 0.0289 - val_accuracy: 0.9898\n",
      "Epoch 16/20\n",
      "151/151 [==============================] - 10s 65ms/step - loss: 0.0689 - accuracy: 0.9795 - val_loss: 0.0297 - val_accuracy: 0.9905\n",
      "Epoch 17/20\n",
      "151/151 [==============================] - 10s 68ms/step - loss: 0.0665 - accuracy: 0.9789 - val_loss: 0.0282 - val_accuracy: 0.9910\n",
      "Epoch 18/20\n",
      "151/151 [==============================] - 10s 66ms/step - loss: 0.0650 - accuracy: 0.9803 - val_loss: 0.0320 - val_accuracy: 0.9895\n",
      "Epoch 19/20\n",
      "151/151 [==============================] - 10s 68ms/step - loss: 0.0647 - accuracy: 0.9803 - val_loss: 0.0293 - val_accuracy: 0.9902\n",
      "Epoch 20/20\n",
      "151/151 [==============================] - 10s 66ms/step - loss: 0.0645 - accuracy: 0.9801 - val_loss: 0.0295 - val_accuracy: 0.9914\n"
     ]
    }
   ],
   "source": [
    "history = model.fit_generator(datagen.flow(X_train,Y_train,batch_size=batch_size),\n",
    "                             epochs=epochs,validation_data =(X_val,Y_val),steps_per_epoch=X_train.shape[0]// batch_size)"
   ]
  },
  {
   "cell_type": "code",
   "execution_count": 20,
   "id": "14186939-3eee-46f6-9844-084f79939e75",
   "metadata": {},
   "outputs": [
    {
     "name": "stdout",
     "output_type": "stream",
     "text": [
      "Test Loss :  0.02950618974864483\n",
      "Test Accuracy :  0.991428554058075\n"
     ]
    }
   ],
   "source": [
    "score = model.evaluate(X_val,Y_val,verbose = 0)\n",
    "print(\"Test Loss : \",score[0])\n",
    "print(\"Test Accuracy : \",score[1])"
   ]
  },
  {
   "cell_type": "code",
   "execution_count": 21,
   "id": "2dd7c8d4-d771-4597-929c-e43f2b73ea57",
   "metadata": {},
   "outputs": [
    {
     "data": {
      "image/png": "[encoded data removed]",
      "text/plain": [
       "<Figure size 640x480 with 1 Axes>"
      ]
     },
     "metadata": {},
     "output_type": "display_data"
    }
   ],
   "source": [
    "plt.plot(history.history[\"val_loss\"],color=\"b\",label=\"validation loss\")\n",
    "plt.plot(history.history[\"loss\"],color=\"r\",label=\"Train loss\")\n",
    "plt.title(\"Loss Değerleri\")\n",
    "plt.xlabel(\"Epochs Sayısı\")\n",
    "plt.ylabel(\"Loss\")\n",
    "plt.legend()\n",
    "plt.show()"
   ]
  },
  {
   "cell_type": "code",
   "execution_count": null,
   "id": "7630b082-0c55-4d79-82f8-fa1953fd0d4e",
   "metadata": {},
   "outputs": [],
   "source": [
    "plt.plot(history.history[\"val_accuracy\"],color=\"b\",label=\"Validation acc\")\n",
    "plt.plot(history.history[\"accuracy\"],color=\"r\",label=\"Train acc\")\n",
    "plt.title(\"ACC Değerleri\")\n",
    "plt.xlabel(\"Epochs Sayısı\")\n",
    "plt.ylabel(\"Loss\")\n",
    "plt.legend()\n",
    "plt.show()"
   ]
  },
  {
   "cell_type": "code",
   "execution_count": 53,
   "id": "9184d264-67a5-4cdf-9205-eb9873d78ff8",
   "metadata": {},
   "outputs": [
    {
     "name": "stdout",
     "output_type": "stream",
     "text": [
      "1/1 [==============================] - 0s 13ms/step\n",
      "Tahmin Edilen Sınıf: 1\n"
     ]
    },
    {
     "data": {
      "image/png": "[encoded data removed]",
      "text/plain": [
       "<Figure size 640x480 with 1 Axes>"
      ]
     },
     "metadata": {},
     "output_type": "display_data"
    }
   ],
   "source": [
    "import random\n",
    "\n",
    "# Test verisetiyle tahmin\n",
    "index = random.randint(0, test.shape[0] - 1)  # Tahmin yapmak istediğiniz  rastgele bir indeks\n",
    "sample_image = test[index]  # Test setinden bir örnk\n",
    "\n",
    "#  Modelle tahmin yapın\n",
    "sample_image_reshaped = sample_image.reshape(-1, 28, 28, 1)  # Modelin girdi formatına uygun hale getirin\n",
    "tahmin = model.predict(sample_image_reshaped)\n",
    "sınıf_tahmin = np.argmax(tahmin)  # En yüksek olasılığa sahip sınıfı alma\n",
    "\n",
    "#  Tahmini yazdırın\n",
    "print(f\"Tahmin Edilen Sınıf: {sınıf_tahmin}\")\n",
    "\n",
    "#  Görüntüyü görselleştirin\n",
    "plt.imshow(sample_image[:, :, 0], cmap=\"gray\")  # Görüntüyü 28x28 formatında gösterme\n",
    "plt.title(f\"Tahmin: {sınıf_tahmin}\")\n",
    "plt.axis(\"off\")\n",
    "plt.show()\n"
   ]
  },
  {
   "cell_type": "code",
   "execution_count": 61,
   "id": "9a70af82-1090-401d-8f76-bfc55f1b4ab4",
   "metadata": {},
   "outputs": [
    {
     "name": "stdout",
     "output_type": "stream",
     "text": [
      "1/1 [==============================] - 0s 13ms/step\n",
      "Tahmin Edilen Sınıf: 9\n",
      "Gerçek Sınıf: 9\n"
     ]
    },
    {
     "data": {
      "image/png": "[encoded data removed]",
      "text/plain": [
       "<Figure size 640x480 with 1 Axes>"
      ]
     },
     "metadata": {},
     "output_type": "display_data"
    }
   ],
   "source": [
    "#  X_val'dan bir örnek seçin ile tahmin\n",
    "index = random.randint(0, X_val.shape[0] - 1) \n",
    "sample_image = X_val[index]  # X_val içindeki bir örnek\n",
    "\n",
    "\n",
    "sample_image_reshaped = sample_image.reshape(-1, 28, 28, 1)  # Modelin girdi formatına uygun hale getirin\n",
    "prediction = model.predict(sample_image_reshaped)\n",
    "predicted_class = np.argmax(prediction)  # En yüksek olasılığa sahip sınıfı alma\n",
    "\n",
    "#  Orijinal etiketle karşılaştıma\n",
    "true_label = np.argmax(Y_val[index])  # Y_val içindeki  etiket\n",
    "\n",
    "#  Sonuçları yazdırın\n",
    "print(f\"Tahmin Edilen Sınıf: {predicted_class}\")\n",
    "print(f\"Gerçek Sınıf: {true_label}\")\n",
    "\n",
    "#  Görüntüyü görselleştirin\n",
    "plt.imshow(sample_image[:, :, 0], cmap=\"gray\")  \n",
    "plt.title(f\"Tahmin: {predicted_class}, Gerçek: {true_label}\")\n",
    "plt.axis(\"off\")\n",
    "plt.show()\n"
   ]
  },
  {
   "cell_type": "code",
   "execution_count": 62,
   "id": "f68e6c24-ac76-4ff7-b007-39b434e45741",
   "metadata": {},
   "outputs": [
    {
     "name": "stdout",
     "output_type": "stream",
     "text": [
      "132/132 [==============================] - 0s 2ms/step\n"
     ]
    },
    {
     "data": {
      "image/png": "[encoded data removed]",
      "text/plain": [
       "<Figure size 800x800 with 2 Axes>"
      ]
     },
     "metadata": {},
     "output_type": "display_data"
    }
   ],
   "source": [
    "# Karışıklık matrisi (Confusion Matrix)\n",
    "import seaborn as sns\n",
    "from sklearn.metrics import confusion_matrix\n",
    "import matplotlib.pyplot as plt\n",
    "import numpy as np\n",
    "\n",
    "# Doğrulama veri setinden değerleri tahmin et\n",
    "Y_pred = model.predict(X_val)\n",
    "\n",
    "# Tahmin sınıflarını one hot vektörlerine dönüştür\n",
    "Y_pred_classes = np.argmax(Y_pred, axis=1)\n",
    "\n",
    "# Doğrulama gözlemlerini one hot vektörlerine dönüştür\n",
    "Y_true = np.argmax(Y_val, axis=1)\n",
    "\n",
    "# Karışıklık matrisini hesapla\n",
    "confusion_mtx = confusion_matrix(Y_true, Y_pred_classes)\n",
    "\n",
    "# Karışıklık matrisini çiz\n",
    "f, ax = plt.subplots(figsize=(8, 8))\n",
    "sns.heatmap(confusion_mtx, annot=True, linewidths=0.01, cmap=\"Greens\", linecolor=\"gray\", fmt='.1f', ax=ax)\n",
    "plt.xlabel(\"Tahmin Edilen Etiket\")\n",
    "plt.ylabel(\"Gerçek Etiket\")\n",
    "plt.title(\"Karışıklık Matrisi\")\n",
    "plt.show()\n"
   ]
  },
  {
   "cell_type": "markdown",
   "id": "05f4ee0b-93f5-4984-8ad8-97636bad7b68",
   "metadata": {},
   "source": [
    "## 1. Sigmoid\n",
    "Sigmoid fonksiyonu, çıkış değeri olarak 0 ile 1 arasında bir değer üretir.\n",
    "Avantajları:\n",
    "\n",
    "Çıktıları, sınıflandırma görevlerinde olasılık olarak yorumlanabilir.\n",
    "İyi bir sınıflandırma sınırı sağlar.\n",
    "Dezavantajları:\n",
    "\n",
    "Vanishing Gradient (Kaybolan Gradyan): Sigmoid, özellikle çok derin ağlarda, gradyanların çok küçük olmasına neden olabilir. Bu da öğrenme sürecini zorlaştırır.\n",
    "Çıktı değeri çok küçük (0'a yakın) olduğunda, ağın öğrenmesi çok yavaşlar.\n",
    "\n",
    "Ne zaman kullanılır:\n",
    "\n",
    "Binary sınıflandırma problemlerinde (örneğin, evet/hayır, 0/1) çıkış katmanında kullanılır.\n",
    "\n",
    "## 2. Tanh (Hiperbolik Tangent)\n",
    "Tanh fonksiyonu, çıkış değeri olarak -1 ile 1 arasında bir değer üretir.\n",
    "\n",
    "Özellikler:\n",
    "\n",
    "Çıktısı -1 ile 1 arasında sınırlıdır.\n",
    "Çoğunlukla sıfır merkezli olduğu için, ağın öğrenmesi daha verimli olabilir.\n",
    "Sigmoid'e benzer ancak daha geniş bir aralıkta çalışır.\n",
    "Avantajları:\n",
    "\n",
    "Sıfır merkezli olması, öğrenme sürecinde daha hızlı bir hız sağlar (negatif girişler daha hızlı öğrenilebilir).\n",
    "Aktivasyonlar daha geniş bir aralığa sahiptir, bu da ağın daha güçlü bir temsil gücü sağlar.\n",
    "Dezavantajları:\n",
    "\n",
    "Vanishing Gradient: Sigmoid gibi, Tanh fonksiyonu da çok küçük gradyanlar üretebilir, bu da özellikle derin ağlarda öğrenmenin zorlaşmasına neden olabilir.\n",
    "Çıkışın 1 veya -1’e çok yakın olması, ağın öğrenmesini yavaşlatabilir.\n",
    "Ne zaman kullanılır:\n",
    "\n",
    "Gizli katmanlarda genellikle kullanılır, çünkü sıfır merkezli olması öğrenme sürecini iyileştirir.\n",
    "\n",
    "\n",
    "## 3. ReLU (Rectified Linear Unit)\n",
    "ReLU, günümüzde en popüler aktivasyon fonksiyonlarından biridir.\n",
    "\n",
    "Özellikler:\n",
    "\n",
    "Pozitif girişler için doğrusal, negatif girişler için sıfır olan bir fonksiyondur.\n",
    "Çok basit ve hesaplama açısından verimlidir.\n",
    "Avantajları:\n",
    "\n",
    "Vanishing Gradient Sorununa karşı daha dayanıklıdır, çünkü negatif değerler dışında gradyanlar kaybolmaz.\n",
    "Hesaplama açısından hızlıdır ve eğitimde daha verimli sonuçlar verir.\n",
    "Derin ağlarda oldukça iyi performans gösterir.\n",
    "Dezavantajları:\n",
    "\n",
    "Dead Neurons (Ölü Nöronlar): ReLU, negatif değerler için sıfır döndürdüğü için, bazı nöronlar \"ölü\" hale gelebilir ve ağırlıkları güncellenmeyebilir. Bu, özellikle yüksek öğrenme oranları kullanıldığında meydana gelebilir.\n",
    "Ne zaman kullanılır:\n",
    "\n",
    "Gizli katmanlarda genellikle ReLU kullanılır, özellikle derin ağlar için.\n",
    "Bu, öğrenme sürecini hızlandıran ve performansı artıran bir fonksiyondur.\n",
    "\n",
    "\n",
    "## 4. Leaky ReLU\n",
    "Leaky ReLU, ReLU’nun modifiye edilmiş bir versiyonudur.\n",
    "\n",
    "Özellikler:\n",
    "\n",
    "Negatif değerler için küçük bir eğim sağlar (\n",
    "𝛼\n",
    "α negatif bölgeyi yumuşatır).\n",
    "Bu, ReLU’nun ölü nöron sorununu çözmeye yardımcı olabilir.\n",
    "Avantajları:\n",
    "\n",
    "ReLU'nun ölü nöron problemini çözer.\n",
    "Eğitimde daha stabil sonuçlar verebilir.\n",
    "Dezavantajları:\n",
    "\n",
    "Negatif değerler için küçük eğim hala var, ancak bu durumun tam anlamıyla ReLU kadar etkili olup olmadığı tartışmalıdır.\n",
    "Ne zaman kullanılır:\n",
    "\n",
    "Derin ağlarda, ReLU'nun ölü nöron sorunu yaşandığında Leaky ReLU tercih edilebilir.\n",
    "\n",
    "\n",
    "## 5. Softmax\n",
    "Softmax, genellikle sınıflandırma problemlerinde kullanılır ve çok sınıflı (multiclass) sınıflandırmalarda tercih edilir. Çıktıları, her sınıfın olasılıklarını verir ve bu olasılıkların toplamı 1 olur.\n",
    "\n",
    "Özellikler:\n",
    "\n",
    "Çoklu sınıflar için olasılıkları normalize eder.\n",
    "Çıkışlar arasındaki ilişkiyi yakalayarak her bir sınıfın olasılığını tahmin eder.\n",
    "Avantajları:\n",
    "\n",
    "Çok sınıflı sınıflandırma problemleri için uygundur.\n",
    "Çıktıların olasılık gibi yorumlanabilmesi, sınıflandırma kararlarını netleştirir.\n",
    "Dezavantajları:\n",
    "\n",
    "Yalnızca son katmanda kullanılır, çünkü her sınıfın olasılığı gereklidir.\n",
    "Ne zaman kullanılır:\n",
    "\n",
    "Çok sınıflı sınıflandırma problemlerinde (örneğin, bir resmin hangi kategoriye ait olduğunu belirlemek) kullanılır.\n",
    "\n",
    "\n",
    "\n",
    "## Özet\n",
    "Sigmoid: İkili sınıflandırma için, ancak derin ağlarda kaybolan gradyan sorununa yol açabilir.\n",
    "Tanh: Sıfır merkezli, ancak yine de kaybolan gradyan sorunu olabilir. Gizli katmanlarda kullanımı yaygındır.\n",
    "ReLU: Derin ağlar için en popüler seçimdir. Hesaplama açısından hızlıdır ve kaybolan gradyan sorununa karşı dayanıklıdır.\n",
    "Leaky ReLU: ReLU'nun ölü nöron sorununu aşmak için kullanılır.\n",
    "Softmax: Çoklu sınıf sınıflandırma problemleri için son katmanda kullanılır."
   ]
  },
  {
   "cell_type": "code",
   "execution_count": null,
   "id": "06a2e4a6-fe62-43f4-94c7-300432b3bb4e",
   "metadata": {},
   "outputs": [],
   "source": []
  }
 ],
 "metadata": {
  "kernelspec": {
   "display_name": "Python 3 (ipykernel)",
   "language": "python",
   "name": "python3"
  },
  "language_info": {
   "codemirror_mode": {
    "name": "ipython",
    "version": 3
   },
   "file_extension": ".py",
   "mimetype": "text/x-python",
   "name": "python",
   "nbconvert_exporter": "python",
   "pygments_lexer": "ipython3",
   "version": "3.8.15"
  }
 },
 "nbformat": 4,
 "nbformat_minor": 5
}
